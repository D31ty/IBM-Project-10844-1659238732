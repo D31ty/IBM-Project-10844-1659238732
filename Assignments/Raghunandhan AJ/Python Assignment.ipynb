{
 "cells": [
  {
   "cell_type": "markdown",
   "id": "86ebf458",
   "metadata": {},
   "source": [
    "# List creation:"
   ]
  },
  {
   "cell_type": "code",
   "execution_count": 1,
   "id": "0ad7287d",
   "metadata": {},
   "outputs": [
    {
     "name": "stdout",
     "output_type": "stream",
     "text": [
      "[20, 22, 20]\n"
     ]
    }
   ],
   "source": [
    "list=[]\n",
    "list.append(20)\n",
    "list.append(22)\n",
    "list.append(20)\n",
    "print(list)"
   ]
  },
  {
   "cell_type": "markdown",
   "id": "9c0bde33",
   "metadata": {},
   "source": [
    "# Insert an integer at specific position:"
   ]
  },
  {
   "cell_type": "code",
   "execution_count": 2,
   "id": "5e45b8fb",
   "metadata": {},
   "outputs": [
    {
     "name": "stdout",
     "output_type": "stream",
     "text": [
      "[20, 21, 22, 20]\n"
     ]
    }
   ],
   "source": [
    "list.insert(1,21)\n",
    "print(list)\n"
   ]
  },
  {
   "cell_type": "markdown",
   "id": "109eab30",
   "metadata": {},
   "source": [
    "# Print the list:"
   ]
  },
  {
   "cell_type": "code",
   "execution_count": 3,
   "id": "58dcba95",
   "metadata": {},
   "outputs": [
    {
     "name": "stdout",
     "output_type": "stream",
     "text": [
      "List: \n",
      "[20, 21, 22, 20]\n"
     ]
    }
   ],
   "source": [
    "print(\"List: \")\n",
    "print(list)\n"
   ]
  },
  {
   "cell_type": "markdown",
   "id": "ae4c4458",
   "metadata": {},
   "source": [
    "# Remove duplicate integer from the list:"
   ]
  },
  {
   "cell_type": "code",
   "execution_count": 4,
   "id": "799f5974",
   "metadata": {},
   "outputs": [
    {
     "name": "stdout",
     "output_type": "stream",
     "text": [
      "\n",
      "List after removing duplicate element:\n",
      "[21, 22, 20]\n"
     ]
    }
   ],
   "source": [
    "print(\"\\nList after removing duplicate element:\")\n",
    "list.remove(20)\n",
    "print(list)\n"
   ]
  },
  {
   "cell_type": "markdown",
   "id": "96354caf",
   "metadata": {},
   "source": [
    "# Insert an integer at the end of the list:"
   ]
  },
  {
   "cell_type": "code",
   "execution_count": 5,
   "id": "eb085849",
   "metadata": {},
   "outputs": [
    {
     "name": "stdout",
     "output_type": "stream",
     "text": [
      "\n",
      "List after adding integer at last:\n",
      "[21, 22, 20, 23]\n"
     ]
    }
   ],
   "source": [
    "list.append(23)\n",
    "print(\"\\nList after adding integer at last:\")\n",
    "print(list)"
   ]
  },
  {
   "cell_type": "markdown",
   "id": "a9317f7e",
   "metadata": {},
   "source": [
    "# Sort the list:"
   ]
  },
  {
   "cell_type": "code",
   "execution_count": 6,
   "id": "603825af",
   "metadata": {},
   "outputs": [
    {
     "name": "stdout",
     "output_type": "stream",
     "text": [
      "\n",
      "List in sorted order:\n",
      "[20, 21, 22, 23]\n"
     ]
    }
   ],
   "source": [
    "list.sort()\n",
    "print(\"\\nList in sorted order:\")\n",
    "print(list)\n"
   ]
  },
  {
   "cell_type": "markdown",
   "id": "fd190d09",
   "metadata": {},
   "source": [
    "# Pop the last element from the list:"
   ]
  },
  {
   "cell_type": "code",
   "execution_count": 7,
   "id": "8f3197d9",
   "metadata": {},
   "outputs": [
    {
     "name": "stdout",
     "output_type": "stream",
     "text": [
      "\n",
      "List after pop operation:\n",
      "[20, 21, 22]\n"
     ]
    }
   ],
   "source": [
    "list.pop()\n",
    "print(\"\\nList after pop operation:\")\n",
    "print(list)\n"
   ]
  },
  {
   "cell_type": "markdown",
   "id": "c34f5f31",
   "metadata": {},
   "source": [
    "# Reverse the list:"
   ]
  },
  {
   "cell_type": "code",
   "execution_count": 8,
   "id": "d9994837",
   "metadata": {},
   "outputs": [
    {
     "name": "stdout",
     "output_type": "stream",
     "text": [
      "\n",
      "List in reversed order:\n",
      "[22, 21, 20]\n"
     ]
    }
   ],
   "source": [
    "list.reverse()\n",
    "print(\"\\nList in reversed order:\")\n",
    "print(list)\n"
   ]
  },
  {
   "cell_type": "markdown",
   "id": "6207edc5",
   "metadata": {},
   "source": [
    "# Write a calculator program in python?"
   ]
  },
  {
   "cell_type": "code",
   "execution_count": 11,
   "id": "79946f82",
   "metadata": {},
   "outputs": [
    {
     "name": "stdout",
     "output_type": "stream",
     "text": [
      "CALCULATOR\n",
      "\n",
      "Press\n",
      "a for addition\n",
      "b for subtraction\n",
      "c for multiplication\n",
      "d for division\n",
      "e for exit\n",
      "a\n",
      "Please enter the first number: 1\n",
      "Please enter the second number: 3\n",
      "1  +  3  =  4\n",
      "CALCULATOR\n",
      "\n",
      "Press\n",
      "a for addition\n",
      "b for subtraction\n",
      "c for multiplication\n",
      "d for division\n",
      "e for exit\n",
      "b\n",
      "Please enter the first number: 10\n",
      "Please enter the second number: 4\n",
      "10  -  4  =  6\n",
      "CALCULATOR\n",
      "\n",
      "Press\n",
      "a for addition\n",
      "b for subtraction\n",
      "c for multiplication\n",
      "d for division\n",
      "e for exit\n",
      "c\n",
      "Please enter the first number: 3\n",
      "Please enter the second number: 5\n",
      "3  *  5  =  15\n",
      "CALCULATOR\n",
      "\n",
      "Press\n",
      "a for addition\n",
      "b for subtraction\n",
      "c for multiplication\n",
      "d for division\n",
      "e for exit\n",
      "d\n",
      "Please enter the first number: 12\n",
      "Please enter the second number: 4\n",
      "12  /  4  =  3.0\n",
      "CALCULATOR\n",
      "\n",
      "Press\n",
      "a for addition\n",
      "b for subtraction\n",
      "c for multiplication\n",
      "d for division\n",
      "e for exit\n",
      "e\n",
      "Successfully Exited\n"
     ]
    }
   ],
   "source": [
    "def add(P, Q):    \n",
    "   return P + Q   \n",
    "def subtract(P, Q):   \n",
    "   return P - Q   \n",
    "def multiply(P, Q):   \n",
    "   return P * Q   \n",
    "def divide(P, Q):   \n",
    "   return P / Q     \n",
    "\n",
    "li=['a','b','c','d']\n",
    "a=1\n",
    "while(a==1):\n",
    "    print(\"CALCULATOR\")\n",
    "    choice = input(\"\\nPress\\na for addition\\nb for subtraction\\nc for multiplication\\nd for division\\ne for exit\\n\")\n",
    "    if choice =='e':\n",
    "        print(\"Successfully Exited\")\n",
    "        break\n",
    "    if choice not in li:\n",
    "        print(\"Please enter a valid choice\")\n",
    "        continue\n",
    "    P = int (input (\"Please enter the first number: \"))    \n",
    "    Q = int (input (\"Please enter the second number: \"))\n",
    "    if choice == 'a':    \n",
    "       print (P, \" + \", Q, \" = \", add(P, Q))    \n",
    "        \n",
    "    elif choice == 'b':    \n",
    "       print (P, \" - \", Q, \" = \", subtract(P, Q))    \n",
    "        \n",
    "    elif choice == 'c':    \n",
    "       print (P, \" * \", Q, \" = \", multiply(P, Q))    \n",
    "    elif choice == 'd':    \n",
    "       print (P, \" / \", Q, \" = \", divide(P, Q))\n"
   ]
  },
  {
   "cell_type": "markdown",
   "id": "dbd8387a",
   "metadata": {},
   "source": [
    "# Write a program to concatenate, reverse and slice a string?"
   ]
  },
  {
   "cell_type": "code",
   "execution_count": 12,
   "id": "eb6bf39c",
   "metadata": {},
   "outputs": [
    {
     "name": "stdout",
     "output_type": "stream",
     "text": [
      "Concatenation of two string:\n",
      "Hi  Have a great day\n"
     ]
    }
   ],
   "source": [
    "a=\"Hi\"\n",
    "b=\"Have a great day\"\n",
    "c=a+\"  \"+b\n",
    "print(\"Concatenation of two string:\")\n",
    "print(c)\n"
   ]
  },
  {
   "cell_type": "markdown",
   "id": "4eecc345",
   "metadata": {},
   "source": [
    "# Reverse:"
   ]
  },
  {
   "cell_type": "code",
   "execution_count": 13,
   "id": "92c822a7",
   "metadata": {},
   "outputs": [
    {
     "name": "stdout",
     "output_type": "stream",
     "text": [
      "\n",
      "Reversed String:\n",
      "yad taerg a evaH  iH\n"
     ]
    }
   ],
   "source": [
    "print(\"\\nReversed String:\")\n",
    "reversedString=c[::-1]\n",
    "print(reversedString)\n"
   ]
  },
  {
   "cell_type": "markdown",
   "id": "41baad07",
   "metadata": {},
   "source": [
    "# Slice:"
   ]
  },
  {
   "cell_type": "code",
   "execution_count": 14,
   "id": "0c0ce4c5",
   "metadata": {},
   "outputs": [
    {
     "name": "stdout",
     "output_type": "stream",
     "text": [
      "\n",
      "Sliced String:\n"
     ]
    }
   ],
   "source": [
    "print(\"\\nSliced String:\"+c[26:41])"
   ]
  },
  {
   "cell_type": "markdown",
   "id": "a85584e3",
   "metadata": {},
   "source": [
    "# Why is python a popular programming language?"
   ]
  },
  {
   "cell_type": "code",
   "execution_count": null,
   "id": "d90006a2",
   "metadata": {},
   "outputs": [],
   "source": [
    "• Python language is incredibly easy to use and learn for new beginners and newcomers. The python language is one of the most accessible programming languages available because it has simplified syntax and not complicated, which gives more emphasis on natural language. Due to its ease of learning and usage, python codes can be easily written and executed much faster than other programming languages.\t\t\n",
    "• It uses a simplified syntax with an emphasis on natural language, for a much easier learning curve for beginners. And, because Python is free to use and is supported by an extremely large ecosystem of libraries and packages, it's often the first-choice language for new developers.\n",
    "• Python is a general-purpose language that is easy to learn and use. Due to its popularity, there is a big and helpful community. Also, Python is backed up by big companies like Google, Amazon, and Facebook. Python is suggested as the first programming language to learn due to its English-like syntax.\n",
    "• Earning Potential: Python is the second-highest paid computer language, according to Indeed.\n",
    "• Ease of Comprehension: One of the top benefits of Python is that it is easy to learn and fun to use.\n",
    "• Flexibility: Not only is Python easy to learn, but also, it's flexible.\n"
   ]
  },
  {
   "cell_type": "markdown",
   "id": "eb7c2e7f",
   "metadata": {},
   "source": [
    "# What are the other frameworks that can be used with python?"
   ]
  },
  {
   "cell_type": "code",
   "execution_count": null,
   "id": "d77c1965",
   "metadata": {},
   "outputs": [],
   "source": [
    "• Django\n",
    "• TurboGears\n",
    "• Pyramid\n",
    "• Flask\n",
    "• Web2py\n",
    "• Sanic\n",
    "• CherryPy\n"
   ]
  },
  {
   "cell_type": "markdown",
   "id": "e5406516",
   "metadata": {},
   "source": [
    "# What is the full form for WSGI?"
   ]
  },
  {
   "cell_type": "code",
   "execution_count": null,
   "id": "16488258",
   "metadata": {},
   "outputs": [],
   "source": [
    "• WSGI stands for \"Web Server Gateway Interface\".\n",
    "• The Web Server Gateway Interface (WSGI) is a standard interface between web server software and web applications written in Python. Having a standard interface makes it easy to use an application that supports WSGI with a number of different web servers.\n",
    "• It is used to forward requests from a web server (such as Apache or NGINX) to a backend Python web application or framework.\n"
   ]
  }
 ],
 "metadata": {
  "kernelspec": {
   "display_name": "Python 3 (ipykernel)",
   "language": "python",
   "name": "python3"
  },
  "language_info": {
   "codemirror_mode": {
    "name": "ipython",
    "version": 3
   },
   "file_extension": ".py",
   "mimetype": "text/x-python",
   "name": "python",
   "nbconvert_exporter": "python",
   "pygments_lexer": "ipython3",
   "version": "3.9.0"
  }
 },
 "nbformat": 4,
 "nbformat_minor": 5
}
